{
  "cells": [
    {
      "cell_type": "code",
      "source": [
        "!pip install flask flask_sqlalchemy flask_security apscheduler pandas"
      ],
      "outputs": [
        {
          "output_type": "stream",
          "name": "stdout",
          "text": [
            "Collecting flask\r\n"
          ]
        },
        {
          "output_type": "stream",
          "name": "stdout",
          "text": [
            "  Downloading Flask-2.3.2-py3-none-any.whl (96 kB)\r\n",
            "\u001b[?25l     \u001b[90m━━━━━━━━━━━━━━━━━━━━━━━━━━━━━━━━━━━━━━━━\u001b[0m \u001b[32m0.0/96.9 kB\u001b[0m \u001b[31m?\u001b[0m eta \u001b[36m-:--:--\u001b[0m\r",
            "\u001b[2K     \u001b[90m━━━━━━━━━━━━━━━━━━━━━━━━━━━━━━━━━━━━━━━━\u001b[0m \u001b[32m96.9/96.9 kB\u001b[0m \u001b[31m10.1 MB/s\u001b[0m eta \u001b[36m0:00:00\u001b[0m\r\n",
            "\u001b[?25h"
          ]
        },
        {
          "output_type": "stream",
          "name": "stdout",
          "text": [
            "Collecting flask_sqlalchemy\r\n",
            "  Downloading Flask_SQLAlchemy-3.0.3-py3-none-any.whl (24 kB)\r\n"
          ]
        },
        {
          "output_type": "stream",
          "name": "stdout",
          "text": [
            "Collecting flask_security\r\n",
            "  Downloading Flask_Security-3.0.0-py2.py3-none-any.whl (68 kB)\r\n",
            "\u001b[?25l     \u001b[90m━━━━━━━━━━━━━━━━━━━━━━━━━━━━━━━━━━━━━━━━\u001b[0m \u001b[32m0.0/68.9 kB\u001b[0m \u001b[31m?\u001b[0m eta \u001b[36m-:--:--\u001b[0m\r",
            "\u001b[2K     \u001b[90m━━━━━━━━━━━━━━━━━━━━━━━━━━━━━━━━━━━━━━━━\u001b[0m \u001b[32m68.9/68.9 kB\u001b[0m \u001b[31m16.1 MB/s\u001b[0m eta \u001b[36m0:00:00\u001b[0m\r\n",
            "\u001b[?25h"
          ]
        },
        {
          "output_type": "stream",
          "name": "stdout",
          "text": [
            "Collecting apscheduler\r\n"
          ]
        },
        {
          "output_type": "stream",
          "name": "stdout",
          "text": [
            "  Downloading APScheduler-3.10.1-py3-none-any.whl (59 kB)\r\n",
            "\u001b[?25l     \u001b[90m━━━━━━━━━━━━━━━━━━━━━━━━━━━━━━━━━━━━━━━━\u001b[0m \u001b[32m0.0/59.2 kB\u001b[0m \u001b[31m?\u001b[0m eta \u001b[36m-:--:--\u001b[0m\r",
            "\u001b[2K     \u001b[90m━━━━━━━━━━━━━━━━━━━━━━━━━━━━━━━━━━━━━━━━\u001b[0m \u001b[32m59.2/59.2 kB\u001b[0m \u001b[31m10.1 MB/s\u001b[0m eta \u001b[36m0:00:00\u001b[0m\r\n",
            "\u001b[?25hRequirement already satisfied: pandas in /opt/conda/lib/python3.9/site-packages (1.5.3)\r\n"
          ]
        },
        {
          "output_type": "stream",
          "name": "stdout",
          "text": [
            "Collecting Werkzeug>=2.3.3\r\n"
          ]
        },
        {
          "output_type": "stream",
          "name": "stdout",
          "text": [
            "  Downloading Werkzeug-2.3.4-py3-none-any.whl (242 kB)\r\n",
            "\u001b[?25l     \u001b[90m━━━━━━━━━━━━━━━━━━━━━━━━━━━━━━━━━━━━━━━━\u001b[0m \u001b[32m0.0/242.5 kB\u001b[0m \u001b[31m?\u001b[0m eta \u001b[36m-:--:--\u001b[0m\r",
            "\u001b[2K     \u001b[90m━━━━━━━━━━━━━━━━━━━━━━━━━━━━━━━━━━━━━━\u001b[0m \u001b[32m242.5/242.5 kB\u001b[0m \u001b[31m29.6 MB/s\u001b[0m eta \u001b[36m0:00:00\u001b[0m\r\n",
            "\u001b[?25hRequirement already satisfied: click>=8.1.3 in /opt/conda/lib/python3.9/site-packages (from flask) (8.1.3)\r\n"
          ]
        },
        {
          "output_type": "stream",
          "name": "stdout",
          "text": [
            "Collecting blinker>=1.6.2\r\n",
            "  Downloading blinker-1.6.2-py3-none-any.whl (13 kB)\r\n"
          ]
        },
        {
          "output_type": "stream",
          "name": "stdout",
          "text": [
            "Collecting itsdangerous>=2.1.2\r\n",
            "  Downloading itsdangerous-2.1.2-py3-none-any.whl (15 kB)\r\n",
            "Requirement already satisfied: Jinja2>=3.1.2 in /opt/conda/lib/python3.9/site-packages (from flask) (3.1.2)\r\n",
            "Requirement already satisfied: importlib-metadata>=3.6.0 in /opt/conda/lib/python3.9/site-packages (from flask) (6.6.0)\r\n",
            "Requirement already satisfied: SQLAlchemy>=1.4.18 in /opt/conda/lib/python3.9/site-packages (from flask_sqlalchemy) (1.4.48)\r\n"
          ]
        },
        {
          "output_type": "stream",
          "name": "stdout",
          "text": [
            "Collecting passlib>=1.7\r\n"
          ]
        },
        {
          "output_type": "stream",
          "name": "stdout",
          "text": [
            "  Downloading passlib-1.7.4-py2.py3-none-any.whl (525 kB)\r\n",
            "\u001b[?25l     \u001b[90m━━━━━━━━━━━━━━━━━━━━━━━━━━━━━━━━━━━━━━━━\u001b[0m \u001b[32m0.0/525.6 kB\u001b[0m \u001b[31m?\u001b[0m eta \u001b[36m-:--:--\u001b[0m\r",
            "\u001b[2K     \u001b[90m━━━━━━━━━━━━━━━━━━━━━━━━━━━━━━━━━━━━━━\u001b[0m \u001b[32m525.6/525.6 kB\u001b[0m \u001b[31m38.2 MB/s\u001b[0m eta \u001b[36m0:00:00\u001b[0m\r\n",
            "\u001b[?25h"
          ]
        },
        {
          "output_type": "stream",
          "name": "stdout",
          "text": [
            "Collecting Flask-BabelEx>=0.9.3\r\n",
            "  Downloading Flask_BabelEx-0.9.4-py3-none-any.whl (8.7 kB)\r\n"
          ]
        },
        {
          "output_type": "stream",
          "name": "stdout",
          "text": [
            "Collecting Flask-Mail>=0.7.3\r\n",
            "  Downloading Flask-Mail-0.9.1.tar.gz (45 kB)\r\n",
            "\u001b[?25l     \u001b[90m━━━━━━━━━━━━━━━━━━━━━━━━━━━━━━━━━━━━━━━━\u001b[0m \u001b[32m0.0/45.7 kB\u001b[0m \u001b[31m?\u001b[0m eta \u001b[36m-:--:--\u001b[0m\r",
            "\u001b[2K     \u001b[90m━━━━━━━━━━━━━━━━━━━━━━━━━━━━━━━━━━━━━━━━\u001b[0m \u001b[32m45.7/45.7 kB\u001b[0m \u001b[31m7.9 MB/s\u001b[0m eta \u001b[36m0:00:00\u001b[0m\r\n",
            "\u001b[?25h"
          ]
        },
        {
          "output_type": "stream",
          "name": "stdout",
          "text": [
            "  Preparing metadata (setup.py) ... \u001b[?25l-"
          ]
        },
        {
          "output_type": "stream",
          "name": "stdout",
          "text": [
            "\b \b\\"
          ]
        },
        {
          "output_type": "stream",
          "name": "stdout",
          "text": [
            "\b \bdone\r\n"
          ]
        },
        {
          "output_type": "stream",
          "name": "stdout",
          "text": [
            "\u001b[?25hCollecting Flask-Login>=0.3.0\r\n",
            "  Downloading Flask_Login-0.6.2-py3-none-any.whl (17 kB)\r\n"
          ]
        },
        {
          "output_type": "stream",
          "name": "stdout",
          "text": [
            "Collecting Flask-Principal>=0.3.3\r\n"
          ]
        },
        {
          "output_type": "stream",
          "name": "stdout",
          "text": [
            "  Downloading Flask-Principal-0.4.0.tar.gz (5.5 kB)\r\n"
          ]
        },
        {
          "output_type": "stream",
          "name": "stdout",
          "text": [
            "  Preparing metadata (setup.py) ... \u001b[?25l-"
          ]
        },
        {
          "output_type": "stream",
          "name": "stdout",
          "text": [
            "\b \b\\\b \bdone\r\n"
          ]
        },
        {
          "output_type": "stream",
          "name": "stdout",
          "text": [
            "\u001b[?25hCollecting Flask-WTF>=0.13.1\r\n",
            "  Downloading Flask_WTF-1.1.1-py3-none-any.whl (12 kB)\r\n"
          ]
        },
        {
          "output_type": "stream",
          "name": "stdout",
          "text": [
            "Requirement already satisfied: tzlocal!=3.*,>=2.0 in /opt/conda/lib/python3.9/site-packages (from apscheduler) (4.2)\r\n",
            "Requirement already satisfied: pytz in /opt/conda/lib/python3.9/site-packages (from apscheduler) (2023.3)\r\n",
            "Requirement already satisfied: six>=1.4.0 in /opt/conda/lib/python3.9/site-packages (from apscheduler) (1.16.0)\r\n",
            "Requirement already satisfied: setuptools>=0.7 in /opt/conda/lib/python3.9/site-packages (from apscheduler) (67.8.0)\r\n",
            "Requirement already satisfied: python-dateutil>=2.8.1 in /opt/conda/lib/python3.9/site-packages (from pandas) (2.8.2)\r\n",
            "Requirement already satisfied: numpy>=1.20.3 in /opt/conda/lib/python3.9/site-packages (from pandas) (1.23.5)\r\n"
          ]
        },
        {
          "output_type": "stream",
          "name": "stdout",
          "text": [
            "Collecting speaklater>=1.2\r\n",
            "  Downloading speaklater-1.3.tar.gz (3.6 kB)\r\n"
          ]
        },
        {
          "output_type": "stream",
          "name": "stdout",
          "text": [
            "  Preparing metadata (setup.py) ... \u001b[?25l-"
          ]
        },
        {
          "output_type": "stream",
          "name": "stdout",
          "text": [
            "\b \b\\"
          ]
        },
        {
          "output_type": "stream",
          "name": "stdout",
          "text": [
            "\b \bdone\r\n",
            "\u001b[?25hRequirement already satisfied: Babel>=1.0 in /opt/conda/lib/python3.9/site-packages (from Flask-BabelEx>=0.9.3->flask_security) (2.12.1)\r\n"
          ]
        },
        {
          "output_type": "stream",
          "name": "stdout",
          "text": [
            "Collecting WTForms\r\n",
            "  Downloading WTForms-3.0.1-py3-none-any.whl (136 kB)\r\n",
            "\u001b[?25l     \u001b[90m━━━━━━━━━━━━━━━━━━━━━━━━━━━━━━━━━━━━━━━━\u001b[0m \u001b[32m0.0/136.5 kB\u001b[0m \u001b[31m?\u001b[0m eta \u001b[36m-:--:--\u001b[0m"
          ]
        },
        {
          "output_type": "stream",
          "name": "stdout",
          "text": [
            "\r",
            "\u001b[2K     \u001b[90m━━━━━━━━━━━━━━━━━━━━━━━━━━━━━━━━━━━━━━\u001b[0m \u001b[32m136.5/136.5 kB\u001b[0m \u001b[31m28.5 MB/s\u001b[0m eta \u001b[36m0:00:00\u001b[0m\r\n",
            "\u001b[?25hRequirement already satisfied: zipp>=0.5 in /opt/conda/lib/python3.9/site-packages (from importlib-metadata>=3.6.0->flask) (3.15.0)\r\n",
            "Requirement already satisfied: MarkupSafe>=2.0 in /opt/conda/lib/python3.9/site-packages (from Jinja2>=3.1.2->flask) (2.1.2)\r\n"
          ]
        },
        {
          "output_type": "stream",
          "name": "stdout",
          "text": [
            "Requirement already satisfied: greenlet!=0.4.17 in /opt/conda/lib/python3.9/site-packages (from SQLAlchemy>=1.4.18->flask_sqlalchemy) (1.1.3.post0)\r\n",
            "Requirement already satisfied: pytz-deprecation-shim in /opt/conda/lib/python3.9/site-packages (from tzlocal!=3.*,>=2.0->apscheduler) (0.1.0.post0)\r\n"
          ]
        },
        {
          "output_type": "stream",
          "name": "stdout",
          "text": [
            "Requirement already satisfied: tzdata in /opt/conda/lib/python3.9/site-packages (from pytz-deprecation-shim->tzlocal!=3.*,>=2.0->apscheduler) (2022.4)\r\n"
          ]
        },
        {
          "output_type": "stream",
          "name": "stdout",
          "text": [
            "Building wheels for collected packages: Flask-Mail, Flask-Principal, speaklater\r\n"
          ]
        },
        {
          "output_type": "stream",
          "name": "stdout",
          "text": [
            "  Building wheel for Flask-Mail (setup.py) ... \u001b[?25l-"
          ]
        },
        {
          "output_type": "stream",
          "name": "stdout",
          "text": [
            "\b \b\\"
          ]
        },
        {
          "output_type": "stream",
          "name": "stdout",
          "text": [
            "\b \b|"
          ]
        },
        {
          "output_type": "stream",
          "name": "stdout",
          "text": [
            "\b \b/"
          ]
        },
        {
          "output_type": "stream",
          "name": "stdout",
          "text": [
            "\b \bdone\r\n",
            "\u001b[?25h  Created wheel for Flask-Mail: filename=Flask_Mail-0.9.1-py3-none-any.whl size=7579 sha256=b78e6bd2a38fc3fb4ecd2eb3c363ed868585aa590bb868c90ccc046ad6f0f672\r\n",
            "  Stored in directory: /home/noteable/.cache/pip/wheels/46/f9/d1/7fb1d1ae35210f02223b4502e2724235cffaed49e22df5007f\r\n"
          ]
        },
        {
          "output_type": "stream",
          "name": "stdout",
          "text": [
            "  Building wheel for Flask-Principal (setup.py) ... \u001b[?25l-"
          ]
        },
        {
          "output_type": "stream",
          "name": "stdout",
          "text": [
            "\b \b\\"
          ]
        },
        {
          "output_type": "stream",
          "name": "stdout",
          "text": [
            "\b \b|"
          ]
        },
        {
          "output_type": "stream",
          "name": "stdout",
          "text": [
            "\b \b/"
          ]
        },
        {
          "output_type": "stream",
          "name": "stdout",
          "text": [
            "\b \bdone\r\n",
            "\u001b[?25h  Created wheel for Flask-Principal: filename=Flask_Principal-0.4.0-py3-none-any.whl size=5575 sha256=b3d76cb5eeaf7faaaa4f851654625eced0aefce4a8730d959386d15b15a6b6e2\r\n",
            "  Stored in directory: /home/noteable/.cache/pip/wheels/1c/f5/71/a395458968141d421053db412da8b24f6010d3fbad27d35f2e\r\n"
          ]
        },
        {
          "output_type": "stream",
          "name": "stdout",
          "text": [
            "  Building wheel for speaklater (setup.py) ... \u001b[?25l-"
          ]
        },
        {
          "output_type": "stream",
          "name": "stdout",
          "text": [
            "\b \b\\"
          ]
        },
        {
          "output_type": "stream",
          "name": "stdout",
          "text": [
            "\b \b|"
          ]
        },
        {
          "output_type": "stream",
          "name": "stdout",
          "text": [
            "\b \b/"
          ]
        },
        {
          "output_type": "stream",
          "name": "stdout",
          "text": [
            "\b \bdone\r\n",
            "\u001b[?25h  Created wheel for speaklater: filename=speaklater-1.3-py3-none-any.whl size=4697 sha256=ca477ce7e71065332bdcb577e1484e47c729fac0d74a8d2ccceae7c1654b7360\r\n",
            "  Stored in directory: /home/noteable/.cache/pip/wheels/85/13/19/10a3d5546c67fe7051b53bf0d5a525c6d0202c363b9db80f5b\r\n",
            "Successfully built Flask-Mail Flask-Principal speaklater\r\n"
          ]
        },
        {
          "output_type": "stream",
          "name": "stdout",
          "text": [
            "Installing collected packages: speaklater, passlib, WTForms, Werkzeug, itsdangerous, blinker, flask, Flask-WTF, flask_sqlalchemy, Flask-Principal, Flask-Mail, Flask-Login, Flask-BabelEx, apscheduler, flask_security\r\n"
          ]
        },
        {
          "output_type": "stream",
          "name": "stdout",
          "text": [
            "  Attempting uninstall: blinker\r\n",
            "    Found existing installation: blinker 1.5\r\n",
            "    Uninstalling blinker-1.5:\r\n"
          ]
        },
        {
          "output_type": "stream",
          "name": "stdout",
          "text": [
            "      Successfully uninstalled blinker-1.5\r\n"
          ]
        },
        {
          "output_type": "stream",
          "name": "stdout",
          "text": [
            "Successfully installed Flask-BabelEx-0.9.4 Flask-Login-0.6.2 Flask-Mail-0.9.1 Flask-Principal-0.4.0 Flask-WTF-1.1.1 WTForms-3.0.1 Werkzeug-2.3.4 apscheduler-3.10.1 blinker-1.6.2 flask-2.3.2 flask_security-3.0.0 flask_sqlalchemy-3.0.3 itsdangerous-2.1.2 passlib-1.7.4 speaklater-1.3\r\n"
          ]
        }
      ],
      "execution_count": null,
      "metadata": {
        "jupyter": {
          "outputs_hidden": false,
          "source_hidden": false
        },
        "noteable": {
          "cell_type": "code"
        },
        "ExecuteTime": {
          "end_time": "2023-06-02T04:34:27.439572+00:00",
          "start_time": "2023-06-02T04:34:15.714559+00:00"
        }
      },
      "id": "cb9bf5ce-77ff-41c6-bc76-aaf08c7a369c"
    },
    {
      "cell_type": "code",
      "source": [
        "from flask import Flask\n",
        "from flask_sqlalchemy import SQLAlchemy\n",
        "\n",
        "app = Flask(__name__)\n",
        "app.config['SQLALCHEMY_DATABASE_URI'] = 'sqlite:////tmp/test.db'\n",
        "db = SQLAlchemy(app)\n",
        "\n",
        "@app.route('/')\n",
        "def hello_world():\n",
        "    return 'Hello, World!'\n",
        "\n",
        "if __name__ == '__main__':\n",
        "    app.run(debug=True)"
      ],
      "outputs": [
        {
          "output_type": "stream",
          "name": "stdout",
          "text": [
            " * Serving Flask app '__main__'\n"
          ]
        },
        {
          "output_type": "stream",
          "name": "stdout",
          "text": [
            " * Debug mode: on\n"
          ]
        },
        {
          "output_type": "stream",
          "name": "stderr",
          "text": [
            "[IPKernelApp] Using existing profile dir: '/home/noteable/.ipython/profile_default'\n",
            "[IPKernelApp] Searching path ['/home/noteable/.ipython/profile_default', '/opt/conda/etc/ipython', '/usr/local/etc/ipython', '/etc/ipython'] for config files\n",
            "[IPKernelApp] Attempting to load config file: ipython_config.py\n",
            "[IPKernelApp] Looking for ipython_config in /etc/ipython\n",
            "[IPKernelApp] Loaded config file: /etc/ipython/ipython_config.py\n",
            "[IPKernelApp] Looking for ipython_config in /usr/local/etc/ipython\n",
            "[IPKernelApp] Looking for ipython_config in /opt/conda/etc/ipython\n",
            "[IPKernelApp] Looking for ipython_config in /home/noteable/.ipython/profile_default\n",
            "[IPKernelApp] Attempting to load config file: ipython_kernel_config.py\n",
            "[IPKernelApp] Looking for ipython_kernel_config in /etc/ipython\n",
            "[IPKernelApp] Looking for ipython_kernel_config in /usr/local/etc/ipython\n",
            "[IPKernelApp] Looking for ipython_kernel_config in /opt/conda/etc/ipython\n",
            "[IPKernelApp] Looking for ipython_kernel_config in /home/noteable/.ipython/profile_default\n",
            "[IPKernelApp] Loading connection file /tmp/connection_file.json\n",
            "[IPKernelApp] Starting the kernel at pid: 82\n",
            "Traceback (most recent call last):\n",
            "  File \"/opt/conda/lib/python3.9/site-packages/ipykernel_launcher.py\", line 17, in <module>\n",
            "    app.launch_new_instance()\n",
            "  File \"/opt/conda/lib/python3.9/site-packages/traitlets/config/application.py\", line 1042, in launch_instance\n",
            "    app.initialize(argv)\n",
            "  File \"/opt/conda/lib/python3.9/site-packages/traitlets/config/application.py\", line 113, in inner\n",
            "    return method(app, *args, **kwargs)\n",
            "  File \"/opt/conda/lib/python3.9/site-packages/ipykernel/kernelapp.py\", line 678, in initialize\n",
            "    self.init_sockets()\n",
            "  File \"/opt/conda/lib/python3.9/site-packages/ipykernel/kernelapp.py\", line 317, in init_sockets\n",
            "    self.shell_port = self._bind_socket(self.shell_socket, self.shell_port)\n",
            "  File \"/opt/conda/lib/python3.9/site-packages/ipykernel/kernelapp.py\", line 252, in _bind_socket\n",
            "    return self._try_bind_socket(s, port)\n",
            "  File \"/opt/conda/lib/python3.9/site-packages/ipykernel/kernelapp.py\", line 228, in _try_bind_socket\n",
            "    s.bind(\"tcp://%s:%i\" % (self.ip, port))\n",
            "  File \"/opt/conda/lib/python3.9/site-packages/zmq/sugar/socket.py\", line 301, in bind\n",
            "    super().bind(addr)\n",
            "  File \"zmq/backend/cython/socket.pyx\", line 564, in zmq.backend.cython.socket.Socket.bind\n",
            "  File \"zmq/backend/cython/checkrc.pxd\", line 28, in zmq.backend.cython.checkrc._check_rc\n",
            "zmq.error.ZMQError: Address already in use\n",
            "[IPKernelApp] Cleaning up sockets\n",
            "[IPKernelApp] Closing shell channel\n",
            "[IPKernelApp] Closing control channel\n",
            "[IPKernelApp] Closing stdin channel\n",
            "[IPKernelApp] Terminating zmq context\n",
            "[IPKernelApp] Terminated zmq context\n"
          ]
        },
        {
          "output_type": "error",
          "ename": "SystemExit",
          "evalue": "1",
          "traceback": [
            "An exception has occurred, use %tb to see the full traceback.\n",
            "\u001b[0;31mSystemExit\u001b[0m\u001b[0;31m:\u001b[0m 1\n"
          ]
        }
      ],
      "execution_count": null,
      "metadata": {
        "jupyter": {
          "outputs_hidden": false,
          "source_hidden": false
        },
        "noteable": {
          "cell_type": "code"
        },
        "ExecuteTime": {
          "end_time": "2023-06-02T04:34:56.271700+00:00",
          "start_time": "2023-06-02T04:34:54.855730+00:00"
        }
      },
      "id": "1e71da95-f56e-4767-aff2-9ae1b9226384"
    },
    {
      "cell_type": "code",
      "source": [
        "from flask_security import UserMixin, RoleMixin\n",
        "\n",
        "roles_users = db.Table('roles_users',\n",
        "    db.Column('user_id', db.Integer(), db.ForeignKey('user.id')),\n",
        "    db.Column('role_id', db.Integer(), db.ForeignKey('role.id'))\n",
        ")\n",
        "\n",
        "class Role(db.Model, RoleMixin):\n",
        "    id = db.Column(db.Integer(), primary_key=True)\n",
        "    name = db.Column(db.String(80), unique=True)\n",
        "    description = db.Column(db.String(255))\n",
        "\n",
        "class User(db.Model, UserMixin):\n",
        "    id = db.Column(db.Integer, primary_key=True)\n",
        "    email = db.Column(db.String(255), unique=True)\n",
        "    password = db.Column(db.String(255))\n",
        "    active = db.Column(db.Boolean())\n",
        "    roles = db.relationship('Role', secondary=roles_users,\n",
        "                            backref=db.backref('users', lazy='dynamic'))\n",
        "\n",
        "class Game(db.Model):\n",
        "    id = db.Column(db.Integer, primary_key=True)\n",
        "    round = db.Column(db.Integer)\n",
        "    date = db.Column(db.DateTime)\n",
        "    home_team = db.Column(db.String(255))\n",
        "    away_team = db.Column(db.String(255))\n",
        "\n",
        "class Tip(db.Model):\n",
        "    id = db.Column(db.Integer, primary_key=True)\n",
        "    user_id = db.Column(db.Integer, db.ForeignKey('user.id'))\n",
        "    game_id = db.Column(db.Integer, db.ForeignKey('game.id'))\n",
        "    team_picked = db.Column(db.String(255))\n",
        "    confidence = db.Column(db.Integer)"
      ],
      "outputs": [
        {
          "output_type": "error",
          "ename": "Exception",
          "evalue": "Install 'email_validator' for email validation support.",
          "traceback": [
            "\u001b[0;31m---------------------------------------------------------------------------\u001b[0m",
            "\u001b[0;31mException\u001b[0m                                 Traceback (most recent call last)",
            "Cell \u001b[0;32mIn[3], line 1\u001b[0m\n\u001b[0;32m----> 1\u001b[0m \u001b[38;5;28;01mfrom\u001b[39;00m \u001b[38;5;21;01mflask_security\u001b[39;00m \u001b[38;5;28;01mimport\u001b[39;00m UserMixin, RoleMixin\n\u001b[1;32m      3\u001b[0m roles_users \u001b[38;5;241m=\u001b[39m db\u001b[38;5;241m.\u001b[39mTable(\u001b[38;5;124m'\u001b[39m\u001b[38;5;124mroles_users\u001b[39m\u001b[38;5;124m'\u001b[39m,\n\u001b[1;32m      4\u001b[0m     db\u001b[38;5;241m.\u001b[39mColumn(\u001b[38;5;124m'\u001b[39m\u001b[38;5;124muser_id\u001b[39m\u001b[38;5;124m'\u001b[39m, db\u001b[38;5;241m.\u001b[39mInteger(), db\u001b[38;5;241m.\u001b[39mForeignKey(\u001b[38;5;124m'\u001b[39m\u001b[38;5;124muser.id\u001b[39m\u001b[38;5;124m'\u001b[39m)),\n\u001b[1;32m      5\u001b[0m     db\u001b[38;5;241m.\u001b[39mColumn(\u001b[38;5;124m'\u001b[39m\u001b[38;5;124mrole_id\u001b[39m\u001b[38;5;124m'\u001b[39m, db\u001b[38;5;241m.\u001b[39mInteger(), db\u001b[38;5;241m.\u001b[39mForeignKey(\u001b[38;5;124m'\u001b[39m\u001b[38;5;124mrole.id\u001b[39m\u001b[38;5;124m'\u001b[39m))\n\u001b[1;32m      6\u001b[0m )\n\u001b[1;32m      8\u001b[0m \u001b[38;5;28;01mclass\u001b[39;00m \u001b[38;5;21;01mRole\u001b[39;00m(db\u001b[38;5;241m.\u001b[39mModel, RoleMixin):\n",
            "File \u001b[0;32m/opt/conda/lib/python3.9/site-packages/flask_security/__init__.py:13\u001b[0m\n\u001b[1;32m      1\u001b[0m \u001b[38;5;66;03m# -*- coding: utf-8 -*-\u001b[39;00m\n\u001b[1;32m      2\u001b[0m \u001b[38;5;124;03m\"\"\"\u001b[39;00m\n\u001b[1;32m      3\u001b[0m \u001b[38;5;124;03m    flask_security\u001b[39;00m\n\u001b[1;32m      4\u001b[0m \u001b[38;5;124;03m    ~~~~~~~~~~~~~~\u001b[39;00m\n\u001b[0;32m   (...)\u001b[0m\n\u001b[1;32m     10\u001b[0m \u001b[38;5;124;03m    :license: MIT, see LICENSE for more details.\u001b[39;00m\n\u001b[1;32m     11\u001b[0m \u001b[38;5;124;03m\"\"\"\u001b[39;00m\n\u001b[0;32m---> 13\u001b[0m \u001b[38;5;28;01mfrom\u001b[39;00m \u001b[38;5;21;01m.\u001b[39;00m\u001b[38;5;21;01mcore\u001b[39;00m \u001b[38;5;28;01mimport\u001b[39;00m Security, RoleMixin, UserMixin, AnonymousUser, current_user\n\u001b[1;32m     14\u001b[0m \u001b[38;5;28;01mfrom\u001b[39;00m \u001b[38;5;21;01m.\u001b[39;00m\u001b[38;5;21;01mdatastore\u001b[39;00m \u001b[38;5;28;01mimport\u001b[39;00m SQLAlchemyUserDatastore, MongoEngineUserDatastore, \\\n\u001b[1;32m     15\u001b[0m     PeeweeUserDatastore, PonyUserDatastore, SQLAlchemySessionUserDatastore\n\u001b[1;32m     16\u001b[0m \u001b[38;5;28;01mfrom\u001b[39;00m \u001b[38;5;21;01m.\u001b[39;00m\u001b[38;5;21;01mdecorators\u001b[39;00m \u001b[38;5;28;01mimport\u001b[39;00m auth_token_required, http_auth_required, \\\n\u001b[1;32m     17\u001b[0m     login_required, roles_accepted, roles_required, auth_required\n",
            "File \u001b[0;32m/opt/conda/lib/python3.9/site-packages/flask_security/core.py:28\u001b[0m\n\u001b[1;32m     25\u001b[0m \u001b[38;5;28;01mfrom\u001b[39;00m \u001b[38;5;21;01mwerkzeug\u001b[39;00m\u001b[38;5;21;01m.\u001b[39;00m\u001b[38;5;21;01mdatastructures\u001b[39;00m \u001b[38;5;28;01mimport\u001b[39;00m ImmutableList\n\u001b[1;32m     26\u001b[0m \u001b[38;5;28;01mfrom\u001b[39;00m \u001b[38;5;21;01mwerkzeug\u001b[39;00m\u001b[38;5;21;01m.\u001b[39;00m\u001b[38;5;21;01mlocal\u001b[39;00m \u001b[38;5;28;01mimport\u001b[39;00m LocalProxy\n\u001b[0;32m---> 28\u001b[0m \u001b[38;5;28;01mfrom\u001b[39;00m \u001b[38;5;21;01m.\u001b[39;00m\u001b[38;5;21;01mforms\u001b[39;00m \u001b[38;5;28;01mimport\u001b[39;00m ChangePasswordForm, ConfirmRegisterForm, \\\n\u001b[1;32m     29\u001b[0m     ForgotPasswordForm, LoginForm, PasswordlessLoginForm, RegisterForm, \\\n\u001b[1;32m     30\u001b[0m     ResetPasswordForm, SendConfirmationForm\n\u001b[1;32m     31\u001b[0m \u001b[38;5;28;01mfrom\u001b[39;00m \u001b[38;5;21;01m.\u001b[39;00m\u001b[38;5;21;01mutils\u001b[39;00m \u001b[38;5;28;01mimport\u001b[39;00m config_value \u001b[38;5;28;01mas\u001b[39;00m cv\n\u001b[1;32m     32\u001b[0m \u001b[38;5;28;01mfrom\u001b[39;00m \u001b[38;5;21;01m.\u001b[39;00m\u001b[38;5;21;01mutils\u001b[39;00m \u001b[38;5;28;01mimport\u001b[39;00m _, get_config, hash_data, localize_callback, string_types, \\\n\u001b[1;32m     33\u001b[0m     url_for_security, verify_hash\n",
            "File \u001b[0;32m/opt/conda/lib/python3.9/site-packages/flask_security/forms.py:69\u001b[0m\n\u001b[1;32m     65\u001b[0m     \u001b[38;5;28;01mpass\u001b[39;00m\n\u001b[1;32m     68\u001b[0m email_required \u001b[38;5;241m=\u001b[39m Required(message\u001b[38;5;241m=\u001b[39m\u001b[38;5;124m'\u001b[39m\u001b[38;5;124mEMAIL_NOT_PROVIDED\u001b[39m\u001b[38;5;124m'\u001b[39m)\n\u001b[0;32m---> 69\u001b[0m email_validator \u001b[38;5;241m=\u001b[39m \u001b[43mEmail\u001b[49m\u001b[43m(\u001b[49m\u001b[43mmessage\u001b[49m\u001b[38;5;241;43m=\u001b[39;49m\u001b[38;5;124;43m'\u001b[39;49m\u001b[38;5;124;43mINVALID_EMAIL_ADDRESS\u001b[39;49m\u001b[38;5;124;43m'\u001b[39;49m\u001b[43m)\u001b[49m\n\u001b[1;32m     70\u001b[0m password_required \u001b[38;5;241m=\u001b[39m Required(message\u001b[38;5;241m=\u001b[39m\u001b[38;5;124m'\u001b[39m\u001b[38;5;124mPASSWORD_NOT_PROVIDED\u001b[39m\u001b[38;5;124m'\u001b[39m)\n\u001b[1;32m     71\u001b[0m password_length \u001b[38;5;241m=\u001b[39m Length(\u001b[38;5;28mmin\u001b[39m\u001b[38;5;241m=\u001b[39m\u001b[38;5;241m6\u001b[39m, \u001b[38;5;28mmax\u001b[39m\u001b[38;5;241m=\u001b[39m\u001b[38;5;241m128\u001b[39m, message\u001b[38;5;241m=\u001b[39m\u001b[38;5;124m'\u001b[39m\u001b[38;5;124mPASSWORD_INVALID_LENGTH\u001b[39m\u001b[38;5;124m'\u001b[39m)\n",
            "File \u001b[0;32m/opt/conda/lib/python3.9/site-packages/wtforms/validators.py:393\u001b[0m, in \u001b[0;36mEmail.__init__\u001b[0;34m(self, message, granular_message, check_deliverability, allow_smtputf8, allow_empty_local)\u001b[0m\n\u001b[1;32m    384\u001b[0m \u001b[38;5;28;01mdef\u001b[39;00m \u001b[38;5;21m__init__\u001b[39m(\n\u001b[1;32m    385\u001b[0m     \u001b[38;5;28mself\u001b[39m,\n\u001b[1;32m    386\u001b[0m     message\u001b[38;5;241m=\u001b[39m\u001b[38;5;28;01mNone\u001b[39;00m,\n\u001b[0;32m   (...)\u001b[0m\n\u001b[1;32m    390\u001b[0m     allow_empty_local\u001b[38;5;241m=\u001b[39m\u001b[38;5;28;01mFalse\u001b[39;00m,\n\u001b[1;32m    391\u001b[0m ):\n\u001b[1;32m    392\u001b[0m     \u001b[38;5;28;01mif\u001b[39;00m email_validator \u001b[38;5;129;01mis\u001b[39;00m \u001b[38;5;28;01mNone\u001b[39;00m:  \u001b[38;5;66;03m# pragma: no cover\u001b[39;00m\n\u001b[0;32m--> 393\u001b[0m         \u001b[38;5;28;01mraise\u001b[39;00m \u001b[38;5;167;01mException\u001b[39;00m(\u001b[38;5;124m\"\u001b[39m\u001b[38;5;124mInstall \u001b[39m\u001b[38;5;124m'\u001b[39m\u001b[38;5;124memail_validator\u001b[39m\u001b[38;5;124m'\u001b[39m\u001b[38;5;124m for email validation support.\u001b[39m\u001b[38;5;124m\"\u001b[39m)\n\u001b[1;32m    394\u001b[0m     \u001b[38;5;28mself\u001b[39m\u001b[38;5;241m.\u001b[39mmessage \u001b[38;5;241m=\u001b[39m message\n\u001b[1;32m    395\u001b[0m     \u001b[38;5;28mself\u001b[39m\u001b[38;5;241m.\u001b[39mgranular_message \u001b[38;5;241m=\u001b[39m granular_message\n",
            "\u001b[0;31mException\u001b[0m: Install 'email_validator' for email validation support."
          ]
        }
      ],
      "execution_count": null,
      "metadata": {
        "jupyter": {
          "outputs_hidden": false,
          "source_hidden": false
        },
        "noteable": {
          "cell_type": "code"
        },
        "ExecuteTime": {
          "end_time": "2023-06-02T04:36:13.082615+00:00",
          "start_time": "2023-06-02T04:36:12.171946+00:00"
        }
      },
      "id": "100d6619-7115-40d7-a9ff-a9d23b64dec3"
    },
    {
      "cell_type": "code",
      "source": [
        "!pip install email_validator"
      ],
      "outputs": [
        {
          "output_type": "stream",
          "name": "stdout",
          "text": [
            "Collecting email_validator\r\n"
          ]
        },
        {
          "output_type": "stream",
          "name": "stdout",
          "text": [
            "  Downloading email_validator-2.0.0.post2-py3-none-any.whl (31 kB)\r\n"
          ]
        },
        {
          "output_type": "stream",
          "name": "stdout",
          "text": [
            "Collecting dnspython>=2.0.0\r\n"
          ]
        },
        {
          "output_type": "stream",
          "name": "stdout",
          "text": [
            "  Downloading dnspython-2.3.0-py3-none-any.whl (283 kB)\r\n",
            "\u001b[?25l     \u001b[90m━━━━━━━━━━━━━━━━━━━━━━━━━━━━━━━━━━━━━━━━\u001b[0m \u001b[32m0.0/283.7 kB\u001b[0m \u001b[31m?\u001b[0m eta \u001b[36m-:--:--\u001b[0m\r",
            "\u001b[2K     \u001b[90m━━━━━━━━━━━━━━━━━━━━━━━━━━━━━━━━━━━━━━\u001b[0m \u001b[32m283.7/283.7 kB\u001b[0m \u001b[31m33.1 MB/s\u001b[0m eta \u001b[36m0:00:00\u001b[0m\r\n",
            "\u001b[?25hRequirement already satisfied: idna>=2.0.0 in /opt/conda/lib/python3.9/site-packages (from email_validator) (3.4)\r\n"
          ]
        },
        {
          "output_type": "stream",
          "name": "stdout",
          "text": [
            "Installing collected packages: dnspython, email_validator\r\n"
          ]
        },
        {
          "output_type": "stream",
          "name": "stdout",
          "text": [
            "Successfully installed dnspython-2.3.0 email_validator-2.0.0.post2\r\n"
          ]
        }
      ],
      "execution_count": null,
      "metadata": {
        "jupyter": {
          "outputs_hidden": false,
          "source_hidden": false
        },
        "noteable": {
          "cell_type": "code"
        },
        "ExecuteTime": {
          "end_time": "2023-06-02T04:36:33.730555+00:00",
          "start_time": "2023-06-02T04:36:28.912336+00:00"
        }
      },
      "id": "5fce9db6-413a-4f47-8e16-82598f250e16"
    },
    {
      "cell_type": "code",
      "source": [
        "from flask_security import UserMixin, RoleMixin\n",
        "\n",
        "roles_users = db.Table('roles_users',\n",
        "    db.Column('user_id', db.Integer(), db.ForeignKey('user.id')),\n",
        "    db.Column('role_id', db.Integer(), db.ForeignKey('role.id'))\n",
        ")\n",
        "\n",
        "class Role(db.Model, RoleMixin):\n",
        "    id = db.Column(db.Integer(), primary_key=True)\n",
        "    name = db.Column(db.String(80), unique=True)\n",
        "    description = db.Column(db.String(255))\n",
        "\n",
        "class User(db.Model, UserMixin):\n",
        "    id = db.Column(db.Integer, primary_key=True)\n",
        "    email = db.Column(db.String(255), unique=True)\n",
        "    password = db.Column(db.String(255))\n",
        "    active = db.Column(db.Boolean())\n",
        "    roles = db.relationship('Role', secondary=roles_users,\n",
        "                            backref=db.backref('users', lazy='dynamic'))\n",
        "\n",
        "class Game(db.Model):\n",
        "    id = db.Column(db.Integer, primary_key=True)\n",
        "    round = db.Column(db.Integer)\n",
        "    date = db.Column(db.DateTime)\n",
        "    home_team = db.Column(db.String(255))\n",
        "    away_team = db.Column(db.String(255))\n",
        "\n",
        "class Tip(db.Model):\n",
        "    id = db.Column(db.Integer, primary_key=True)\n",
        "    user_id = db.Column(db.Integer, db.ForeignKey('user.id'))\n",
        "    game_id = db.Column(db.Integer, db.ForeignKey('game.id'))\n",
        "    team_picked = db.Column(db.String(255))\n",
        "    confidence = db.Column(db.Integer)"
      ],
      "outputs": [
        {
          "output_type": "error",
          "ename": "Exception",
          "evalue": "Install 'email_validator' for email validation support.",
          "traceback": [
            "\u001b[0;31m---------------------------------------------------------------------------\u001b[0m",
            "\u001b[0;31mException\u001b[0m                                 Traceback (most recent call last)",
            "Cell \u001b[0;32mIn[5], line 1\u001b[0m\n\u001b[0;32m----> 1\u001b[0m \u001b[38;5;28;01mfrom\u001b[39;00m \u001b[38;5;21;01mflask_security\u001b[39;00m \u001b[38;5;28;01mimport\u001b[39;00m UserMixin, RoleMixin\n\u001b[1;32m      3\u001b[0m roles_users \u001b[38;5;241m=\u001b[39m db\u001b[38;5;241m.\u001b[39mTable(\u001b[38;5;124m'\u001b[39m\u001b[38;5;124mroles_users\u001b[39m\u001b[38;5;124m'\u001b[39m,\n\u001b[1;32m      4\u001b[0m     db\u001b[38;5;241m.\u001b[39mColumn(\u001b[38;5;124m'\u001b[39m\u001b[38;5;124muser_id\u001b[39m\u001b[38;5;124m'\u001b[39m, db\u001b[38;5;241m.\u001b[39mInteger(), db\u001b[38;5;241m.\u001b[39mForeignKey(\u001b[38;5;124m'\u001b[39m\u001b[38;5;124muser.id\u001b[39m\u001b[38;5;124m'\u001b[39m)),\n\u001b[1;32m      5\u001b[0m     db\u001b[38;5;241m.\u001b[39mColumn(\u001b[38;5;124m'\u001b[39m\u001b[38;5;124mrole_id\u001b[39m\u001b[38;5;124m'\u001b[39m, db\u001b[38;5;241m.\u001b[39mInteger(), db\u001b[38;5;241m.\u001b[39mForeignKey(\u001b[38;5;124m'\u001b[39m\u001b[38;5;124mrole.id\u001b[39m\u001b[38;5;124m'\u001b[39m))\n\u001b[1;32m      6\u001b[0m )\n\u001b[1;32m      8\u001b[0m \u001b[38;5;28;01mclass\u001b[39;00m \u001b[38;5;21;01mRole\u001b[39;00m(db\u001b[38;5;241m.\u001b[39mModel, RoleMixin):\n",
            "File \u001b[0;32m/opt/conda/lib/python3.9/site-packages/flask_security/__init__.py:13\u001b[0m\n\u001b[1;32m      1\u001b[0m \u001b[38;5;66;03m# -*- coding: utf-8 -*-\u001b[39;00m\n\u001b[1;32m      2\u001b[0m \u001b[38;5;124;03m\"\"\"\u001b[39;00m\n\u001b[1;32m      3\u001b[0m \u001b[38;5;124;03m    flask_security\u001b[39;00m\n\u001b[1;32m      4\u001b[0m \u001b[38;5;124;03m    ~~~~~~~~~~~~~~\u001b[39;00m\n\u001b[0;32m   (...)\u001b[0m\n\u001b[1;32m     10\u001b[0m \u001b[38;5;124;03m    :license: MIT, see LICENSE for more details.\u001b[39;00m\n\u001b[1;32m     11\u001b[0m \u001b[38;5;124;03m\"\"\"\u001b[39;00m\n\u001b[0;32m---> 13\u001b[0m \u001b[38;5;28;01mfrom\u001b[39;00m \u001b[38;5;21;01m.\u001b[39;00m\u001b[38;5;21;01mcore\u001b[39;00m \u001b[38;5;28;01mimport\u001b[39;00m Security, RoleMixin, UserMixin, AnonymousUser, current_user\n\u001b[1;32m     14\u001b[0m \u001b[38;5;28;01mfrom\u001b[39;00m \u001b[38;5;21;01m.\u001b[39;00m\u001b[38;5;21;01mdatastore\u001b[39;00m \u001b[38;5;28;01mimport\u001b[39;00m SQLAlchemyUserDatastore, MongoEngineUserDatastore, \\\n\u001b[1;32m     15\u001b[0m     PeeweeUserDatastore, PonyUserDatastore, SQLAlchemySessionUserDatastore\n\u001b[1;32m     16\u001b[0m \u001b[38;5;28;01mfrom\u001b[39;00m \u001b[38;5;21;01m.\u001b[39;00m\u001b[38;5;21;01mdecorators\u001b[39;00m \u001b[38;5;28;01mimport\u001b[39;00m auth_token_required, http_auth_required, \\\n\u001b[1;32m     17\u001b[0m     login_required, roles_accepted, roles_required, auth_required\n",
            "File \u001b[0;32m/opt/conda/lib/python3.9/site-packages/flask_security/core.py:28\u001b[0m\n\u001b[1;32m     25\u001b[0m \u001b[38;5;28;01mfrom\u001b[39;00m \u001b[38;5;21;01mwerkzeug\u001b[39;00m\u001b[38;5;21;01m.\u001b[39;00m\u001b[38;5;21;01mdatastructures\u001b[39;00m \u001b[38;5;28;01mimport\u001b[39;00m ImmutableList\n\u001b[1;32m     26\u001b[0m \u001b[38;5;28;01mfrom\u001b[39;00m \u001b[38;5;21;01mwerkzeug\u001b[39;00m\u001b[38;5;21;01m.\u001b[39;00m\u001b[38;5;21;01mlocal\u001b[39;00m \u001b[38;5;28;01mimport\u001b[39;00m LocalProxy\n\u001b[0;32m---> 28\u001b[0m \u001b[38;5;28;01mfrom\u001b[39;00m \u001b[38;5;21;01m.\u001b[39;00m\u001b[38;5;21;01mforms\u001b[39;00m \u001b[38;5;28;01mimport\u001b[39;00m ChangePasswordForm, ConfirmRegisterForm, \\\n\u001b[1;32m     29\u001b[0m     ForgotPasswordForm, LoginForm, PasswordlessLoginForm, RegisterForm, \\\n\u001b[1;32m     30\u001b[0m     ResetPasswordForm, SendConfirmationForm\n\u001b[1;32m     31\u001b[0m \u001b[38;5;28;01mfrom\u001b[39;00m \u001b[38;5;21;01m.\u001b[39;00m\u001b[38;5;21;01mutils\u001b[39;00m \u001b[38;5;28;01mimport\u001b[39;00m config_value \u001b[38;5;28;01mas\u001b[39;00m cv\n\u001b[1;32m     32\u001b[0m \u001b[38;5;28;01mfrom\u001b[39;00m \u001b[38;5;21;01m.\u001b[39;00m\u001b[38;5;21;01mutils\u001b[39;00m \u001b[38;5;28;01mimport\u001b[39;00m _, get_config, hash_data, localize_callback, string_types, \\\n\u001b[1;32m     33\u001b[0m     url_for_security, verify_hash\n",
            "File \u001b[0;32m/opt/conda/lib/python3.9/site-packages/flask_security/forms.py:69\u001b[0m\n\u001b[1;32m     65\u001b[0m     \u001b[38;5;28;01mpass\u001b[39;00m\n\u001b[1;32m     68\u001b[0m email_required \u001b[38;5;241m=\u001b[39m Required(message\u001b[38;5;241m=\u001b[39m\u001b[38;5;124m'\u001b[39m\u001b[38;5;124mEMAIL_NOT_PROVIDED\u001b[39m\u001b[38;5;124m'\u001b[39m)\n\u001b[0;32m---> 69\u001b[0m email_validator \u001b[38;5;241m=\u001b[39m \u001b[43mEmail\u001b[49m\u001b[43m(\u001b[49m\u001b[43mmessage\u001b[49m\u001b[38;5;241;43m=\u001b[39;49m\u001b[38;5;124;43m'\u001b[39;49m\u001b[38;5;124;43mINVALID_EMAIL_ADDRESS\u001b[39;49m\u001b[38;5;124;43m'\u001b[39;49m\u001b[43m)\u001b[49m\n\u001b[1;32m     70\u001b[0m password_required \u001b[38;5;241m=\u001b[39m Required(message\u001b[38;5;241m=\u001b[39m\u001b[38;5;124m'\u001b[39m\u001b[38;5;124mPASSWORD_NOT_PROVIDED\u001b[39m\u001b[38;5;124m'\u001b[39m)\n\u001b[1;32m     71\u001b[0m password_length \u001b[38;5;241m=\u001b[39m Length(\u001b[38;5;28mmin\u001b[39m\u001b[38;5;241m=\u001b[39m\u001b[38;5;241m6\u001b[39m, \u001b[38;5;28mmax\u001b[39m\u001b[38;5;241m=\u001b[39m\u001b[38;5;241m128\u001b[39m, message\u001b[38;5;241m=\u001b[39m\u001b[38;5;124m'\u001b[39m\u001b[38;5;124mPASSWORD_INVALID_LENGTH\u001b[39m\u001b[38;5;124m'\u001b[39m)\n",
            "File \u001b[0;32m/opt/conda/lib/python3.9/site-packages/wtforms/validators.py:393\u001b[0m, in \u001b[0;36mEmail.__init__\u001b[0;34m(self, message, granular_message, check_deliverability, allow_smtputf8, allow_empty_local)\u001b[0m\n\u001b[1;32m    384\u001b[0m \u001b[38;5;28;01mdef\u001b[39;00m \u001b[38;5;21m__init__\u001b[39m(\n\u001b[1;32m    385\u001b[0m     \u001b[38;5;28mself\u001b[39m,\n\u001b[1;32m    386\u001b[0m     message\u001b[38;5;241m=\u001b[39m\u001b[38;5;28;01mNone\u001b[39;00m,\n\u001b[0;32m   (...)\u001b[0m\n\u001b[1;32m    390\u001b[0m     allow_empty_local\u001b[38;5;241m=\u001b[39m\u001b[38;5;28;01mFalse\u001b[39;00m,\n\u001b[1;32m    391\u001b[0m ):\n\u001b[1;32m    392\u001b[0m     \u001b[38;5;28;01mif\u001b[39;00m email_validator \u001b[38;5;129;01mis\u001b[39;00m \u001b[38;5;28;01mNone\u001b[39;00m:  \u001b[38;5;66;03m# pragma: no cover\u001b[39;00m\n\u001b[0;32m--> 393\u001b[0m         \u001b[38;5;28;01mraise\u001b[39;00m \u001b[38;5;167;01mException\u001b[39;00m(\u001b[38;5;124m\"\u001b[39m\u001b[38;5;124mInstall \u001b[39m\u001b[38;5;124m'\u001b[39m\u001b[38;5;124memail_validator\u001b[39m\u001b[38;5;124m'\u001b[39m\u001b[38;5;124m for email validation support.\u001b[39m\u001b[38;5;124m\"\u001b[39m)\n\u001b[1;32m    394\u001b[0m     \u001b[38;5;28mself\u001b[39m\u001b[38;5;241m.\u001b[39mmessage \u001b[38;5;241m=\u001b[39m message\n\u001b[1;32m    395\u001b[0m     \u001b[38;5;28mself\u001b[39m\u001b[38;5;241m.\u001b[39mgranular_message \u001b[38;5;241m=\u001b[39m granular_message\n",
            "\u001b[0;31mException\u001b[0m: Install 'email_validator' for email validation support."
          ]
        }
      ],
      "execution_count": null,
      "metadata": {
        "jupyter": {
          "outputs_hidden": false,
          "source_hidden": false
        },
        "noteable": {
          "cell_type": "code"
        },
        "ExecuteTime": {
          "end_time": "2023-06-02T04:37:18.803242+00:00",
          "start_time": "2023-06-02T04:37:18.471302+00:00"
        }
      },
      "id": "fff75152-bb57-49a1-94c6-82403510dd49"
    },
    {
      "cell_type": "code",
      "source": [
        "from flask_security import Security, SQLAlchemyUserDatastore, \\\n",
        "    UserMixin, RoleMixin, login_required\n",
        "from flask import request, redirect, url_for\n",
        "\n",
        "# Setup Flask-Security\n",
        "user_datastore = SQLAlchemyUserDatastore(db, User, Role)\n",
        "security = Security(app, user_datastore)\n",
        "\n",
        "@app.route('/register', methods=['POST'])\n",
        "def register():\n",
        "    email = request.form.get('email')\n",
        "    password = request.form.get('password')\n",
        "    user_datastore.create_user(email=email, password=password)\n",
        "    db.session.commit()\n",
        "    return redirect(url_for('index'))"
      ],
      "outputs": [
        {
          "output_type": "error",
          "ename": "Exception",
          "evalue": "Install 'email_validator' for email validation support.",
          "traceback": [
            "\u001b[0;31m---------------------------------------------------------------------------\u001b[0m",
            "\u001b[0;31mException\u001b[0m                                 Traceback (most recent call last)",
            "Cell \u001b[0;32mIn[6], line 1\u001b[0m\n\u001b[0;32m----> 1\u001b[0m \u001b[38;5;28;01mfrom\u001b[39;00m \u001b[38;5;21;01mflask_security\u001b[39;00m \u001b[38;5;28;01mimport\u001b[39;00m Security, SQLAlchemyUserDatastore, \\\n\u001b[1;32m      2\u001b[0m     UserMixin, RoleMixin, login_required\n\u001b[1;32m      3\u001b[0m \u001b[38;5;28;01mfrom\u001b[39;00m \u001b[38;5;21;01mflask\u001b[39;00m \u001b[38;5;28;01mimport\u001b[39;00m request, redirect, url_for\n\u001b[1;32m      5\u001b[0m \u001b[38;5;66;03m# Setup Flask-Security\u001b[39;00m\n",
            "File \u001b[0;32m/opt/conda/lib/python3.9/site-packages/flask_security/__init__.py:13\u001b[0m\n\u001b[1;32m      1\u001b[0m \u001b[38;5;66;03m# -*- coding: utf-8 -*-\u001b[39;00m\n\u001b[1;32m      2\u001b[0m \u001b[38;5;124;03m\"\"\"\u001b[39;00m\n\u001b[1;32m      3\u001b[0m \u001b[38;5;124;03m    flask_security\u001b[39;00m\n\u001b[1;32m      4\u001b[0m \u001b[38;5;124;03m    ~~~~~~~~~~~~~~\u001b[39;00m\n\u001b[0;32m   (...)\u001b[0m\n\u001b[1;32m     10\u001b[0m \u001b[38;5;124;03m    :license: MIT, see LICENSE for more details.\u001b[39;00m\n\u001b[1;32m     11\u001b[0m \u001b[38;5;124;03m\"\"\"\u001b[39;00m\n\u001b[0;32m---> 13\u001b[0m \u001b[38;5;28;01mfrom\u001b[39;00m \u001b[38;5;21;01m.\u001b[39;00m\u001b[38;5;21;01mcore\u001b[39;00m \u001b[38;5;28;01mimport\u001b[39;00m Security, RoleMixin, UserMixin, AnonymousUser, current_user\n\u001b[1;32m     14\u001b[0m \u001b[38;5;28;01mfrom\u001b[39;00m \u001b[38;5;21;01m.\u001b[39;00m\u001b[38;5;21;01mdatastore\u001b[39;00m \u001b[38;5;28;01mimport\u001b[39;00m SQLAlchemyUserDatastore, MongoEngineUserDatastore, \\\n\u001b[1;32m     15\u001b[0m     PeeweeUserDatastore, PonyUserDatastore, SQLAlchemySessionUserDatastore\n\u001b[1;32m     16\u001b[0m \u001b[38;5;28;01mfrom\u001b[39;00m \u001b[38;5;21;01m.\u001b[39;00m\u001b[38;5;21;01mdecorators\u001b[39;00m \u001b[38;5;28;01mimport\u001b[39;00m auth_token_required, http_auth_required, \\\n\u001b[1;32m     17\u001b[0m     login_required, roles_accepted, roles_required, auth_required\n",
            "File \u001b[0;32m/opt/conda/lib/python3.9/site-packages/flask_security/core.py:28\u001b[0m\n\u001b[1;32m     25\u001b[0m \u001b[38;5;28;01mfrom\u001b[39;00m \u001b[38;5;21;01mwerkzeug\u001b[39;00m\u001b[38;5;21;01m.\u001b[39;00m\u001b[38;5;21;01mdatastructures\u001b[39;00m \u001b[38;5;28;01mimport\u001b[39;00m ImmutableList\n\u001b[1;32m     26\u001b[0m \u001b[38;5;28;01mfrom\u001b[39;00m \u001b[38;5;21;01mwerkzeug\u001b[39;00m\u001b[38;5;21;01m.\u001b[39;00m\u001b[38;5;21;01mlocal\u001b[39;00m \u001b[38;5;28;01mimport\u001b[39;00m LocalProxy\n\u001b[0;32m---> 28\u001b[0m \u001b[38;5;28;01mfrom\u001b[39;00m \u001b[38;5;21;01m.\u001b[39;00m\u001b[38;5;21;01mforms\u001b[39;00m \u001b[38;5;28;01mimport\u001b[39;00m ChangePasswordForm, ConfirmRegisterForm, \\\n\u001b[1;32m     29\u001b[0m     ForgotPasswordForm, LoginForm, PasswordlessLoginForm, RegisterForm, \\\n\u001b[1;32m     30\u001b[0m     ResetPasswordForm, SendConfirmationForm\n\u001b[1;32m     31\u001b[0m \u001b[38;5;28;01mfrom\u001b[39;00m \u001b[38;5;21;01m.\u001b[39;00m\u001b[38;5;21;01mutils\u001b[39;00m \u001b[38;5;28;01mimport\u001b[39;00m config_value \u001b[38;5;28;01mas\u001b[39;00m cv\n\u001b[1;32m     32\u001b[0m \u001b[38;5;28;01mfrom\u001b[39;00m \u001b[38;5;21;01m.\u001b[39;00m\u001b[38;5;21;01mutils\u001b[39;00m \u001b[38;5;28;01mimport\u001b[39;00m _, get_config, hash_data, localize_callback, string_types, \\\n\u001b[1;32m     33\u001b[0m     url_for_security, verify_hash\n",
            "File \u001b[0;32m/opt/conda/lib/python3.9/site-packages/flask_security/forms.py:69\u001b[0m\n\u001b[1;32m     65\u001b[0m     \u001b[38;5;28;01mpass\u001b[39;00m\n\u001b[1;32m     68\u001b[0m email_required \u001b[38;5;241m=\u001b[39m Required(message\u001b[38;5;241m=\u001b[39m\u001b[38;5;124m'\u001b[39m\u001b[38;5;124mEMAIL_NOT_PROVIDED\u001b[39m\u001b[38;5;124m'\u001b[39m)\n\u001b[0;32m---> 69\u001b[0m email_validator \u001b[38;5;241m=\u001b[39m \u001b[43mEmail\u001b[49m\u001b[43m(\u001b[49m\u001b[43mmessage\u001b[49m\u001b[38;5;241;43m=\u001b[39;49m\u001b[38;5;124;43m'\u001b[39;49m\u001b[38;5;124;43mINVALID_EMAIL_ADDRESS\u001b[39;49m\u001b[38;5;124;43m'\u001b[39;49m\u001b[43m)\u001b[49m\n\u001b[1;32m     70\u001b[0m password_required \u001b[38;5;241m=\u001b[39m Required(message\u001b[38;5;241m=\u001b[39m\u001b[38;5;124m'\u001b[39m\u001b[38;5;124mPASSWORD_NOT_PROVIDED\u001b[39m\u001b[38;5;124m'\u001b[39m)\n\u001b[1;32m     71\u001b[0m password_length \u001b[38;5;241m=\u001b[39m Length(\u001b[38;5;28mmin\u001b[39m\u001b[38;5;241m=\u001b[39m\u001b[38;5;241m6\u001b[39m, \u001b[38;5;28mmax\u001b[39m\u001b[38;5;241m=\u001b[39m\u001b[38;5;241m128\u001b[39m, message\u001b[38;5;241m=\u001b[39m\u001b[38;5;124m'\u001b[39m\u001b[38;5;124mPASSWORD_INVALID_LENGTH\u001b[39m\u001b[38;5;124m'\u001b[39m)\n",
            "File \u001b[0;32m/opt/conda/lib/python3.9/site-packages/wtforms/validators.py:393\u001b[0m, in \u001b[0;36mEmail.__init__\u001b[0;34m(self, message, granular_message, check_deliverability, allow_smtputf8, allow_empty_local)\u001b[0m\n\u001b[1;32m    384\u001b[0m \u001b[38;5;28;01mdef\u001b[39;00m \u001b[38;5;21m__init__\u001b[39m(\n\u001b[1;32m    385\u001b[0m     \u001b[38;5;28mself\u001b[39m,\n\u001b[1;32m    386\u001b[0m     message\u001b[38;5;241m=\u001b[39m\u001b[38;5;28;01mNone\u001b[39;00m,\n\u001b[0;32m   (...)\u001b[0m\n\u001b[1;32m    390\u001b[0m     allow_empty_local\u001b[38;5;241m=\u001b[39m\u001b[38;5;28;01mFalse\u001b[39;00m,\n\u001b[1;32m    391\u001b[0m ):\n\u001b[1;32m    392\u001b[0m     \u001b[38;5;28;01mif\u001b[39;00m email_validator \u001b[38;5;129;01mis\u001b[39;00m \u001b[38;5;28;01mNone\u001b[39;00m:  \u001b[38;5;66;03m# pragma: no cover\u001b[39;00m\n\u001b[0;32m--> 393\u001b[0m         \u001b[38;5;28;01mraise\u001b[39;00m \u001b[38;5;167;01mException\u001b[39;00m(\u001b[38;5;124m\"\u001b[39m\u001b[38;5;124mInstall \u001b[39m\u001b[38;5;124m'\u001b[39m\u001b[38;5;124memail_validator\u001b[39m\u001b[38;5;124m'\u001b[39m\u001b[38;5;124m for email validation support.\u001b[39m\u001b[38;5;124m\"\u001b[39m)\n\u001b[1;32m    394\u001b[0m     \u001b[38;5;28mself\u001b[39m\u001b[38;5;241m.\u001b[39mmessage \u001b[38;5;241m=\u001b[39m message\n\u001b[1;32m    395\u001b[0m     \u001b[38;5;28mself\u001b[39m\u001b[38;5;241m.\u001b[39mgranular_message \u001b[38;5;241m=\u001b[39m granular_message\n",
            "\u001b[0;31mException\u001b[0m: Install 'email_validator' for email validation support."
          ]
        }
      ],
      "execution_count": null,
      "metadata": {
        "jupyter": {
          "outputs_hidden": false,
          "source_hidden": false
        },
        "noteable": {
          "cell_type": "code"
        },
        "ExecuteTime": {
          "end_time": "2023-06-02T04:39:40.349275+00:00",
          "start_time": "2023-06-02T04:39:40.022564+00:00"
        }
      },
      "id": "6b632d86-d870-489c-abcf-ce96c3415af7"
    },
    {
      "cell_type": "code",
      "source": [
        "@app.route('/login', methods=['POST'])\n",
        "def login():\n",
        "    email = request.form.get('email')\n",
        "    password = request.form.get('password')\n",
        "    user = user_datastore.find_user(email=email)\n",
        "    if user and user.check_password(password):\n",
        "        login_user(user)\n",
        "        return redirect(request.args.get('next') or url_for('index'))\n",
        "    else:\n",
        "        return 'Invalid username or password'"
      ],
      "outputs": [],
      "execution_count": null,
      "metadata": {
        "jupyter": {
          "outputs_hidden": false,
          "source_hidden": false
        },
        "noteable": {
          "cell_type": "code"
        },
        "ExecuteTime": {
          "end_time": "2023-06-02T04:40:18.821105+00:00",
          "start_time": "2023-06-02T04:40:18.659540+00:00"
        }
      },
      "id": "6dfb7e05-43f6-43d2-b714-772fb460a31e"
    },
    {
      "cell_type": "code",
      "source": [
        "from flask_security import logout_user\n",
        "\n",
        "@app.route('/logout')\n",
        "@login_required\n",
        "def logout():\n",
        "    logout_user()\n",
        "    return redirect(url_for('index'))"
      ],
      "outputs": [
        {
          "output_type": "error",
          "ename": "Exception",
          "evalue": "Install 'email_validator' for email validation support.",
          "traceback": [
            "\u001b[0;31m---------------------------------------------------------------------------\u001b[0m",
            "\u001b[0;31mException\u001b[0m                                 Traceback (most recent call last)",
            "Cell \u001b[0;32mIn[8], line 1\u001b[0m\n\u001b[0;32m----> 1\u001b[0m \u001b[38;5;28;01mfrom\u001b[39;00m \u001b[38;5;21;01mflask_security\u001b[39;00m \u001b[38;5;28;01mimport\u001b[39;00m logout_user\n\u001b[1;32m      3\u001b[0m \u001b[38;5;129m@app\u001b[39m\u001b[38;5;241m.\u001b[39mroute(\u001b[38;5;124m'\u001b[39m\u001b[38;5;124m/logout\u001b[39m\u001b[38;5;124m'\u001b[39m)\n\u001b[1;32m      4\u001b[0m \u001b[38;5;129m@login_required\u001b[39m\n\u001b[1;32m      5\u001b[0m \u001b[38;5;28;01mdef\u001b[39;00m \u001b[38;5;21mlogout\u001b[39m():\n\u001b[1;32m      6\u001b[0m     logout_user()\n",
            "File \u001b[0;32m/opt/conda/lib/python3.9/site-packages/flask_security/__init__.py:13\u001b[0m\n\u001b[1;32m      1\u001b[0m \u001b[38;5;66;03m# -*- coding: utf-8 -*-\u001b[39;00m\n\u001b[1;32m      2\u001b[0m \u001b[38;5;124;03m\"\"\"\u001b[39;00m\n\u001b[1;32m      3\u001b[0m \u001b[38;5;124;03m    flask_security\u001b[39;00m\n\u001b[1;32m      4\u001b[0m \u001b[38;5;124;03m    ~~~~~~~~~~~~~~\u001b[39;00m\n\u001b[0;32m   (...)\u001b[0m\n\u001b[1;32m     10\u001b[0m \u001b[38;5;124;03m    :license: MIT, see LICENSE for more details.\u001b[39;00m\n\u001b[1;32m     11\u001b[0m \u001b[38;5;124;03m\"\"\"\u001b[39;00m\n\u001b[0;32m---> 13\u001b[0m \u001b[38;5;28;01mfrom\u001b[39;00m \u001b[38;5;21;01m.\u001b[39;00m\u001b[38;5;21;01mcore\u001b[39;00m \u001b[38;5;28;01mimport\u001b[39;00m Security, RoleMixin, UserMixin, AnonymousUser, current_user\n\u001b[1;32m     14\u001b[0m \u001b[38;5;28;01mfrom\u001b[39;00m \u001b[38;5;21;01m.\u001b[39;00m\u001b[38;5;21;01mdatastore\u001b[39;00m \u001b[38;5;28;01mimport\u001b[39;00m SQLAlchemyUserDatastore, MongoEngineUserDatastore, \\\n\u001b[1;32m     15\u001b[0m     PeeweeUserDatastore, PonyUserDatastore, SQLAlchemySessionUserDatastore\n\u001b[1;32m     16\u001b[0m \u001b[38;5;28;01mfrom\u001b[39;00m \u001b[38;5;21;01m.\u001b[39;00m\u001b[38;5;21;01mdecorators\u001b[39;00m \u001b[38;5;28;01mimport\u001b[39;00m auth_token_required, http_auth_required, \\\n\u001b[1;32m     17\u001b[0m     login_required, roles_accepted, roles_required, auth_required\n",
            "File \u001b[0;32m/opt/conda/lib/python3.9/site-packages/flask_security/core.py:28\u001b[0m\n\u001b[1;32m     25\u001b[0m \u001b[38;5;28;01mfrom\u001b[39;00m \u001b[38;5;21;01mwerkzeug\u001b[39;00m\u001b[38;5;21;01m.\u001b[39;00m\u001b[38;5;21;01mdatastructures\u001b[39;00m \u001b[38;5;28;01mimport\u001b[39;00m ImmutableList\n\u001b[1;32m     26\u001b[0m \u001b[38;5;28;01mfrom\u001b[39;00m \u001b[38;5;21;01mwerkzeug\u001b[39;00m\u001b[38;5;21;01m.\u001b[39;00m\u001b[38;5;21;01mlocal\u001b[39;00m \u001b[38;5;28;01mimport\u001b[39;00m LocalProxy\n\u001b[0;32m---> 28\u001b[0m \u001b[38;5;28;01mfrom\u001b[39;00m \u001b[38;5;21;01m.\u001b[39;00m\u001b[38;5;21;01mforms\u001b[39;00m \u001b[38;5;28;01mimport\u001b[39;00m ChangePasswordForm, ConfirmRegisterForm, \\\n\u001b[1;32m     29\u001b[0m     ForgotPasswordForm, LoginForm, PasswordlessLoginForm, RegisterForm, \\\n\u001b[1;32m     30\u001b[0m     ResetPasswordForm, SendConfirmationForm\n\u001b[1;32m     31\u001b[0m \u001b[38;5;28;01mfrom\u001b[39;00m \u001b[38;5;21;01m.\u001b[39;00m\u001b[38;5;21;01mutils\u001b[39;00m \u001b[38;5;28;01mimport\u001b[39;00m config_value \u001b[38;5;28;01mas\u001b[39;00m cv\n\u001b[1;32m     32\u001b[0m \u001b[38;5;28;01mfrom\u001b[39;00m \u001b[38;5;21;01m.\u001b[39;00m\u001b[38;5;21;01mutils\u001b[39;00m \u001b[38;5;28;01mimport\u001b[39;00m _, get_config, hash_data, localize_callback, string_types, \\\n\u001b[1;32m     33\u001b[0m     url_for_security, verify_hash\n",
            "File \u001b[0;32m/opt/conda/lib/python3.9/site-packages/flask_security/forms.py:69\u001b[0m\n\u001b[1;32m     65\u001b[0m     \u001b[38;5;28;01mpass\u001b[39;00m\n\u001b[1;32m     68\u001b[0m email_required \u001b[38;5;241m=\u001b[39m Required(message\u001b[38;5;241m=\u001b[39m\u001b[38;5;124m'\u001b[39m\u001b[38;5;124mEMAIL_NOT_PROVIDED\u001b[39m\u001b[38;5;124m'\u001b[39m)\n\u001b[0;32m---> 69\u001b[0m email_validator \u001b[38;5;241m=\u001b[39m \u001b[43mEmail\u001b[49m\u001b[43m(\u001b[49m\u001b[43mmessage\u001b[49m\u001b[38;5;241;43m=\u001b[39;49m\u001b[38;5;124;43m'\u001b[39;49m\u001b[38;5;124;43mINVALID_EMAIL_ADDRESS\u001b[39;49m\u001b[38;5;124;43m'\u001b[39;49m\u001b[43m)\u001b[49m\n\u001b[1;32m     70\u001b[0m password_required \u001b[38;5;241m=\u001b[39m Required(message\u001b[38;5;241m=\u001b[39m\u001b[38;5;124m'\u001b[39m\u001b[38;5;124mPASSWORD_NOT_PROVIDED\u001b[39m\u001b[38;5;124m'\u001b[39m)\n\u001b[1;32m     71\u001b[0m password_length \u001b[38;5;241m=\u001b[39m Length(\u001b[38;5;28mmin\u001b[39m\u001b[38;5;241m=\u001b[39m\u001b[38;5;241m6\u001b[39m, \u001b[38;5;28mmax\u001b[39m\u001b[38;5;241m=\u001b[39m\u001b[38;5;241m128\u001b[39m, message\u001b[38;5;241m=\u001b[39m\u001b[38;5;124m'\u001b[39m\u001b[38;5;124mPASSWORD_INVALID_LENGTH\u001b[39m\u001b[38;5;124m'\u001b[39m)\n",
            "File \u001b[0;32m/opt/conda/lib/python3.9/site-packages/wtforms/validators.py:393\u001b[0m, in \u001b[0;36mEmail.__init__\u001b[0;34m(self, message, granular_message, check_deliverability, allow_smtputf8, allow_empty_local)\u001b[0m\n\u001b[1;32m    384\u001b[0m \u001b[38;5;28;01mdef\u001b[39;00m \u001b[38;5;21m__init__\u001b[39m(\n\u001b[1;32m    385\u001b[0m     \u001b[38;5;28mself\u001b[39m,\n\u001b[1;32m    386\u001b[0m     message\u001b[38;5;241m=\u001b[39m\u001b[38;5;28;01mNone\u001b[39;00m,\n\u001b[0;32m   (...)\u001b[0m\n\u001b[1;32m    390\u001b[0m     allow_empty_local\u001b[38;5;241m=\u001b[39m\u001b[38;5;28;01mFalse\u001b[39;00m,\n\u001b[1;32m    391\u001b[0m ):\n\u001b[1;32m    392\u001b[0m     \u001b[38;5;28;01mif\u001b[39;00m email_validator \u001b[38;5;129;01mis\u001b[39;00m \u001b[38;5;28;01mNone\u001b[39;00m:  \u001b[38;5;66;03m# pragma: no cover\u001b[39;00m\n\u001b[0;32m--> 393\u001b[0m         \u001b[38;5;28;01mraise\u001b[39;00m \u001b[38;5;167;01mException\u001b[39;00m(\u001b[38;5;124m\"\u001b[39m\u001b[38;5;124mInstall \u001b[39m\u001b[38;5;124m'\u001b[39m\u001b[38;5;124memail_validator\u001b[39m\u001b[38;5;124m'\u001b[39m\u001b[38;5;124m for email validation support.\u001b[39m\u001b[38;5;124m\"\u001b[39m)\n\u001b[1;32m    394\u001b[0m     \u001b[38;5;28mself\u001b[39m\u001b[38;5;241m.\u001b[39mmessage \u001b[38;5;241m=\u001b[39m message\n\u001b[1;32m    395\u001b[0m     \u001b[38;5;28mself\u001b[39m\u001b[38;5;241m.\u001b[39mgranular_message \u001b[38;5;241m=\u001b[39m granular_message\n",
            "\u001b[0;31mException\u001b[0m: Install 'email_validator' for email validation support."
          ]
        }
      ],
      "execution_count": null,
      "metadata": {
        "jupyter": {
          "outputs_hidden": false,
          "source_hidden": false
        },
        "noteable": {
          "cell_type": "code"
        },
        "ExecuteTime": {
          "end_time": "2023-06-02T04:40:47.782560+00:00",
          "start_time": "2023-06-02T04:40:47.463922+00:00"
        }
      },
      "id": "a20f1cf4-eb50-4bd0-ac5d-a7ea5c071759"
    },
    {
      "cell_type": "code",
      "source": [
        "from flask import jsonify\n",
        "from sqlalchemy import func\n",
        "\n",
        "@app.route('/games')\n",
        "@login_required\n",
        "def games():\n",
        "    current_round = db.session.query(func.max(Game.round)).scalar()\n",
        "    games = Game.query.filter_by(round=current_round).all()\n",
        "    return jsonify([game.to_dict() for game in games])"
      ],
      "outputs": [
        {
          "output_type": "error",
          "ename": "NameError",
          "evalue": "name 'login_required' is not defined",
          "traceback": [
            "\u001b[0;31m---------------------------------------------------------------------------\u001b[0m",
            "\u001b[0;31mNameError\u001b[0m                                 Traceback (most recent call last)",
            "Cell \u001b[0;32mIn[9], line 5\u001b[0m\n\u001b[1;32m      1\u001b[0m \u001b[38;5;28;01mfrom\u001b[39;00m \u001b[38;5;21;01mflask\u001b[39;00m \u001b[38;5;28;01mimport\u001b[39;00m jsonify\n\u001b[1;32m      2\u001b[0m \u001b[38;5;28;01mfrom\u001b[39;00m \u001b[38;5;21;01msqlalchemy\u001b[39;00m \u001b[38;5;28;01mimport\u001b[39;00m func\n\u001b[1;32m      4\u001b[0m \u001b[38;5;129m@app\u001b[39m\u001b[38;5;241m.\u001b[39mroute(\u001b[38;5;124m'\u001b[39m\u001b[38;5;124m/games\u001b[39m\u001b[38;5;124m'\u001b[39m)\n\u001b[0;32m----> 5\u001b[0m \u001b[38;5;129m@login_required\u001b[39m\n\u001b[1;32m      6\u001b[0m \u001b[38;5;28;01mdef\u001b[39;00m \u001b[38;5;21mgames\u001b[39m():\n\u001b[1;32m      7\u001b[0m     current_round \u001b[38;5;241m=\u001b[39m db\u001b[38;5;241m.\u001b[39msession\u001b[38;5;241m.\u001b[39mquery(func\u001b[38;5;241m.\u001b[39mmax(Game\u001b[38;5;241m.\u001b[39mround))\u001b[38;5;241m.\u001b[39mscalar()\n\u001b[1;32m      8\u001b[0m     games \u001b[38;5;241m=\u001b[39m Game\u001b[38;5;241m.\u001b[39mquery\u001b[38;5;241m.\u001b[39mfilter_by(\u001b[38;5;28mround\u001b[39m\u001b[38;5;241m=\u001b[39mcurrent_round)\u001b[38;5;241m.\u001b[39mall()\n",
            "\u001b[0;31mNameError\u001b[0m: name 'login_required' is not defined"
          ]
        }
      ],
      "execution_count": null,
      "metadata": {
        "jupyter": {
          "outputs_hidden": false,
          "source_hidden": false
        },
        "noteable": {
          "cell_type": "code"
        },
        "ExecuteTime": {
          "end_time": "2023-06-02T04:41:24.549444+00:00",
          "start_time": "2023-06-02T04:41:24.371776+00:00"
        }
      },
      "id": "56feb08d-0b0b-4fc3-aef2-90d2b55b62b3"
    },
    {
      "cell_type": "code",
      "source": [
        "@app.route('/tip', methods=['POST'])\n",
        "@login_required\n",
        "def tip():\n",
        "    user_id = current_user.get_id()\n",
        "    game_id = request.form.get('game_id')\n",
        "    team_picked = request.form.get('team_picked')\n",
        "    confidence = request.form.get('confidence')\n",
        "    tip = Tip(user_id=user_id, game_id=game_id, team_picked=team_picked, confidence=confidence)\n",
        "    db.session.add(tip)\n",
        "    db.session.commit()\n",
        "    return 'Tip submitted successfully'"
      ],
      "outputs": [
        {
          "output_type": "error",
          "ename": "NameError",
          "evalue": "name 'login_required' is not defined",
          "traceback": [
            "\u001b[0;31m---------------------------------------------------------------------------\u001b[0m",
            "\u001b[0;31mNameError\u001b[0m                                 Traceback (most recent call last)",
            "Cell \u001b[0;32mIn[10], line 2\u001b[0m\n\u001b[1;32m      1\u001b[0m \u001b[38;5;129m@app\u001b[39m\u001b[38;5;241m.\u001b[39mroute(\u001b[38;5;124m'\u001b[39m\u001b[38;5;124m/tip\u001b[39m\u001b[38;5;124m'\u001b[39m, methods\u001b[38;5;241m=\u001b[39m[\u001b[38;5;124m'\u001b[39m\u001b[38;5;124mPOST\u001b[39m\u001b[38;5;124m'\u001b[39m])\n\u001b[0;32m----> 2\u001b[0m \u001b[38;5;129m@login_required\u001b[39m\n\u001b[1;32m      3\u001b[0m \u001b[38;5;28;01mdef\u001b[39;00m \u001b[38;5;21mtip\u001b[39m():\n\u001b[1;32m      4\u001b[0m     user_id \u001b[38;5;241m=\u001b[39m current_user\u001b[38;5;241m.\u001b[39mget_id()\n\u001b[1;32m      5\u001b[0m     game_id \u001b[38;5;241m=\u001b[39m request\u001b[38;5;241m.\u001b[39mform\u001b[38;5;241m.\u001b[39mget(\u001b[38;5;124m'\u001b[39m\u001b[38;5;124mgame_id\u001b[39m\u001b[38;5;124m'\u001b[39m)\n",
            "\u001b[0;31mNameError\u001b[0m: name 'login_required' is not defined"
          ]
        }
      ],
      "execution_count": null,
      "metadata": {
        "jupyter": {
          "outputs_hidden": false,
          "source_hidden": false
        },
        "noteable": {
          "cell_type": "code"
        },
        "ExecuteTime": {
          "end_time": "2023-06-02T04:42:07.702991+00:00",
          "start_time": "2023-06-02T04:42:07.512345+00:00"
        }
      },
      "id": "66d78a1c-be82-4d71-89c2-8e47529ce512"
    },
    {
      "cell_type": "code",
      "source": [
        "@app.route('/leaderboard')\n",
        "@login_required\n",
        "def leaderboard():\n",
        "    tips = Tip.query.all()\n",
        "    scores = {}\n",
        "    for tip in tips:\n",
        "        if tip.user_id not in scores:\n",
        "            scores[tip.user_id] = 0\n",
        "        if tip.correct:\n",
        "            scores[tip.user_id] += tip.confidence\n",
        "    leaderboard = sorted(scores.items(), key=lambda x: x[1], reverse=True)\n",
        "    return jsonify(leaderboard)"
      ],
      "outputs": [
        {
          "output_type": "error",
          "ename": "NameError",
          "evalue": "name 'login_required' is not defined",
          "traceback": [
            "\u001b[0;31m---------------------------------------------------------------------------\u001b[0m",
            "\u001b[0;31mNameError\u001b[0m                                 Traceback (most recent call last)",
            "Cell \u001b[0;32mIn[11], line 2\u001b[0m\n\u001b[1;32m      1\u001b[0m \u001b[38;5;129m@app\u001b[39m\u001b[38;5;241m.\u001b[39mroute(\u001b[38;5;124m'\u001b[39m\u001b[38;5;124m/leaderboard\u001b[39m\u001b[38;5;124m'\u001b[39m)\n\u001b[0;32m----> 2\u001b[0m \u001b[38;5;129m@login_required\u001b[39m\n\u001b[1;32m      3\u001b[0m \u001b[38;5;28;01mdef\u001b[39;00m \u001b[38;5;21mleaderboard\u001b[39m():\n\u001b[1;32m      4\u001b[0m     tips \u001b[38;5;241m=\u001b[39m Tip\u001b[38;5;241m.\u001b[39mquery\u001b[38;5;241m.\u001b[39mall()\n\u001b[1;32m      5\u001b[0m     scores \u001b[38;5;241m=\u001b[39m {}\n",
            "\u001b[0;31mNameError\u001b[0m: name 'login_required' is not defined"
          ]
        }
      ],
      "execution_count": null,
      "metadata": {
        "jupyter": {
          "outputs_hidden": false,
          "source_hidden": false
        },
        "noteable": {
          "cell_type": "code"
        },
        "ExecuteTime": {
          "end_time": "2023-06-02T04:43:02.393845+00:00",
          "start_time": "2023-06-02T04:43:02.212721+00:00"
        }
      },
      "id": "57e88901-2808-4ce3-9c46-17cc455517d1"
    }
  ],
  "metadata": {
    "noteable-chatgpt": {
      "create_notebook": {
        "openai_conversation_id": "9ff2bad0-ef0b-5a98-b24e-d74c8ab7dfd2",
        "openai_ephemeral_user_id": "66f1ffda-4b4b-5916-b29f-fccc99053711",
        "openai_subdivision1_iso_code": "AU-VIC"
      }
    },
    "noteable": {
      "last_transaction_id": "71d4af5e-f15f-456e-b336-1852ea72e4f6",
      "last_delta_id": "71d4af5e-f15f-456e-b336-1852ea72e4f6"
    },
    "selected_hardware_size": "small",
    "nteract": {
      "version": "noteable@2.9.0"
    }
  },
  "nbformat": 4,
  "nbformat_minor": 5
}